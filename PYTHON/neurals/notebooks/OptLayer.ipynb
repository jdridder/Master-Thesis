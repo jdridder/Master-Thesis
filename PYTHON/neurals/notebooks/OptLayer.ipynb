{
 "cells": [
  {
   "cell_type": "code",
   "execution_count": 5,
   "id": "05fd0e52",
   "metadata": {},
   "outputs": [
    {
     "name": "stdout",
     "output_type": "stream",
     "text": [
      "True:  x\n",
      "Constraints:  mac(\n",
      "[[1, 0, 0, 0, 1, 0, 0, 0], \n",
      " [0, 1, 0, 0, 0, 1, 0, 0], \n",
      " [0, 0, 1, 0, 0, 0, 1, 0], \n",
      " [0, 0, 0, 1, 0, 0, 0, 1]],z,zeros(4x1))\n",
      "newton([0.251135, 0.677183, 0.846197, 0.401022, 0.46666, 0.335792, 0.464321, 0.718105, 0.690173, 0.46598, 0.5367, 0.715595], x){0}\n"
     ]
    }
   ],
   "source": [
    "from casadi import *\n",
    "import numpy as np\n",
    "import os\n",
    "import sys\n",
    "sys.path.append(\"../\")\n",
    "# Linear equality constraints\n",
    "A = np.concatenate([np.eye(4), np.eye(4)], axis=1)\n",
    "b = np.ones((4,1))\n",
    "\n",
    "x = MX.sym(\"x\", 8)\n",
    "z = MX.sym(\"z\", x.shape)\n",
    "\n",
    "f = sum((z-x) ** 2)\n",
    "h = A @ z - b\n",
    "nu = MX.sym(\"nu\", h.shape)\n",
    "\n",
    "\n",
    "# KKT matrix G\n",
    "G = horzcat(jacobian(f, z) + nu.T @ jacobian(h, z), h.T).T\n",
    "\n",
    "newton = rootfinder(\"newton\", \"newton\", {\"x\": vertcat(z, nu), \"g\": G, \"p\": x})\n",
    "z0 = DM(np.random.rand(12))\n",
    "x_p = np.random.rand(8)\n",
    "\n",
    "print(\"True: \", x)\n",
    "z_res = newton(z0, x)\n",
    "print(\"Constraints: \", A @ z[:8])\n",
    "print(z_res)"
   ]
  },
  {
   "cell_type": "code",
   "execution_count": 2,
   "id": "cdf83aa3",
   "metadata": {},
   "outputs": [
    {
     "name": "stdout",
     "output_type": "stream",
     "text": [
      "Exception of type: DYNAMIC_LIBRARY_FAILURE in file \"Common/IpLibraryLoader.cpp\" at line 72:\n",
      " Exception message: dlopen(libhsl.dylib, 0x0002): tried: 'libhsl.dylib' (no such file), '/System/Volumes/Preboot/Cryptexes/OSlibhsl.dylib' (no such file), '/Users/jandavidridder/anaconda3/envs/apc/lib/python3.12/site-packages/casadi/libhsl.dylib' (no such file), '/Users/jandavidridder/anaconda3/envs/apc/bin/../lib/libhsl.dylib' (no such file), '/usr/lib/libhsl.dylib' (no such file, not in dyld cache), 'libhsl.dylib' (no such file), '/usr/local/lib/libhsl.dylib' (no such file), '/usr/lib/libhsl.dylib' (no such file, not in dyld cache)\n",
      "\n",
      "EXIT: Library loading failure.\n",
      "      solver  :   t_proc      (avg)   t_wall      (avg)    n_eval\n",
      "       total  | 803.00us (803.00us)   1.11ms (  1.11ms)         1\n"
     ]
    },
    {
     "data": {
      "text/plain": [
       "DM([0.426644, 0.538658, 0.370501, 0.717906, 0.852609, 0.208643, 0.515973, 0.822134])"
      ]
     },
     "metadata": {},
     "output_type": "display_data"
    }
   ],
   "source": [
    "nlp = {\n",
    "    \"f\": f, \"g\": h, \"x\": z, \"p\": x\n",
    "}\n",
    "opts = {\"ipopt.linear_solver\": \"ma27\"}\n",
    "solver = nlpsol(\"solver\", \"ipopt\", nlp, opts)\n",
    "sol = solver(x0=z0[:8], lbg=0, ubg=0, p=x_p)\n",
    "display(sol[\"x\"])"
   ]
  },
  {
   "cell_type": "code",
   "execution_count": null,
   "id": "571d0a46",
   "metadata": {},
   "outputs": [],
   "source": [
    "from neurals.casadi import make_opt_layer\n",
    "\n"
   ]
  }
 ],
 "metadata": {
  "kernelspec": {
   "display_name": "apc",
   "language": "python",
   "name": "python3"
  },
  "language_info": {
   "codemirror_mode": {
    "name": "ipython",
    "version": 3
   },
   "file_extension": ".py",
   "mimetype": "text/x-python",
   "name": "python",
   "nbconvert_exporter": "python",
   "pygments_lexer": "ipython3",
   "version": "3.12.3"
  }
 },
 "nbformat": 4,
 "nbformat_minor": 5
}
