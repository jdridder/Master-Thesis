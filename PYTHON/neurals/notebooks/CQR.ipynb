{
 "cells": [
  {
   "cell_type": "code",
   "execution_count": 1,
   "id": "245807af",
   "metadata": {},
   "outputs": [],
   "source": [
    "import numpy as np\n",
    "import sympy as sp\n",
    "import torch\n",
    "import os\n",
    "os.chdir(\"../\")\n",
    "from neurals.TorchPredictors import StatePredictor, MinMaxScalerModule\n",
    "path = \"/Users/jandavidridder/Desktop/Masterarbeit/PYTHON/MYCODE/models/EtOxModel/surrogates/001_nominal_states.pth\""
   ]
  },
  {
   "cell_type": "code",
   "execution_count": 5,
   "id": "7684cdfc",
   "metadata": {},
   "outputs": [
    {
     "data": {
      "text/plain": [
       "<All keys matched successfully>"
      ]
     },
     "execution_count": 5,
     "metadata": {},
     "output_type": "execute_result"
    }
   ],
   "source": [
    "parameters = torch.load(path)\n",
    "model = StatePredictor(116, 20)\n",
    "model.load_state_dict(parameters)"
   ]
  }
 ],
 "metadata": {
  "kernelspec": {
   "display_name": "apc",
   "language": "python",
   "name": "python3"
  },
  "language_info": {
   "codemirror_mode": {
    "name": "ipython",
    "version": 3
   },
   "file_extension": ".py",
   "mimetype": "text/x-python",
   "name": "python",
   "nbconvert_exporter": "python",
   "pygments_lexer": "ipython3",
   "version": "3.12.3"
  }
 },
 "nbformat": 4,
 "nbformat_minor": 5
}
