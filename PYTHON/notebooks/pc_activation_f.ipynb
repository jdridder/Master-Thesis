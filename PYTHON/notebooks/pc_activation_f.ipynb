{
 "cells": [
  {
   "cell_type": "code",
   "execution_count": 2,
   "id": "eaa1a90b",
   "metadata": {},
   "outputs": [
    {
     "data": {
      "text/plain": [
       "array([[4., 0., 4., 2., 0., 0., 0., 0., 0., 0., 0., 0.],\n",
       "       [2., 0., 2., 0., 1., 0., 0., 0., 0., 0., 0., 0.],\n",
       "       [0., 2., 1., 1., 2., 0., 0., 0., 0., 0., 0., 0.],\n",
       "       [0., 0., 0., 0., 0., 0., 4., 0., 4., 2., 0., 0.],\n",
       "       [0., 0., 0., 0., 0., 0., 2., 0., 2., 0., 1., 0.],\n",
       "       [0., 0., 0., 0., 0., 0., 0., 2., 1., 1., 2., 0.]])"
      ]
     },
     "metadata": {},
     "output_type": "display_data"
    },
    {
     "data": {
      "text/plain": [
       "array([[4., 0., 4., 2., 0., 0.],\n",
       "       [2., 0., 2., 0., 1., 0.],\n",
       "       [0., 2., 1., 1., 2., 0.]])"
      ]
     },
     "execution_count": 2,
     "metadata": {},
     "output_type": "execute_result"
    }
   ],
   "source": [
    "import numpy as np\n",
    "import sys\n",
    "import os\n",
    "import yaml\n",
    "import torch\n",
    "\n",
    "sys.path.append(\"/Users/jandavidridder/Desktop/Masterarbeit/src/PYTHON/MYCODE\")\n",
    "cfg_path = \"/Users/jandavidridder/Desktop/Masterarbeit/src/PYTHON/MYCODE/models/EtOxModel/EtOxModel.yaml\"\n",
    "\n",
    "from models.EtOxModel.EtOxModel import EtOxModel\n",
    "\n",
    "with open (cfg_path, \"r\") as f:\n",
    "    cfg = yaml.safe_load(f)\n",
    "\n",
    "meta_model = EtOxModel(model_cfg=cfg, state_keys=cfg[\"states\"].get(\"keys\"), input_keys=cfg[\"inputs\"].get(\"keys\"), N_finite_diff=128)\n",
    "\n",
    "A = meta_model.get_balance_constraint_matrix(num_stacks=2, include_temp_as_zero=True)\n",
    "element_species_matrix = meta_model.get_element_species_matrix(num_stacks=2, include_temp_as_zero=True)\n",
    "x_ref = torch.tensor([[100, 100, 0, 0, 0]], dtype=torch.float32)\n",
    "display(element_species_matrix)\n",
    "meta_model.get_element_species_matrix(num_stacks=1)"
   ]
  },
  {
   "cell_type": "code",
   "execution_count": null,
   "id": "49b1b983",
   "metadata": {},
   "outputs": [
    {
     "data": {
      "text/plain": [
       "tensor([[ 2.2263e-01,  1.0219e-01, -2.2628e-01,  7.2993e-03,  7.2993e-03,\n",
       "          7.2727e-01, -1.1363e-01, -1.1363e-01],\n",
       "        [ 1.0219e-01,  2.5182e-01, -2.1898e-02, -1.6058e-01, -1.6058e-01,\n",
       "         -1.2794e-01,  4.8989e-01,  4.8989e-01],\n",
       "        [-2.2628e-01, -2.1898e-02,  2.6277e-01, -7.2993e-02, -7.2993e-02,\n",
       "          6.6330e-01,  1.3131e-01,  1.3131e-01],\n",
       "        [ 7.2993e-03, -1.6058e-01, -7.2993e-02,  1.3139e-01,  1.3139e-01,\n",
       "          8.5862e-02,  8.3901e-01, -1.6099e-01],\n",
       "        [ 7.2993e-03, -1.6058e-01, -7.2993e-02,  1.3139e-01,  1.3139e-01,\n",
       "          8.5862e-02, -1.6099e-01,  8.3901e-01],\n",
       "        [ 7.2727e-01, -1.2794e-01,  6.6330e-01,  8.5862e-02,  8.5862e-02,\n",
       "         -2.0000e+00, -9.2857e-09, -3.0015e-09],\n",
       "        [-1.1363e-01,  4.8989e-01,  1.3131e-01,  8.3901e-01, -1.6099e-01,\n",
       "         -9.2857e-09, -2.0000e+00,  1.2115e-08],\n",
       "        [-1.1363e-01,  4.8989e-01,  1.3131e-01, -1.6099e-01,  8.3901e-01,\n",
       "         -3.0015e-09,  1.2115e-08, -2.0000e+00]])"
      ]
     },
     "metadata": {},
     "output_type": "display_data"
    },
    {
     "data": {
      "text/plain": [
       "'cond:'"
      ]
     },
     "metadata": {},
     "output_type": "display_data"
    },
    {
     "data": {
      "text/plain": [
       "tensor(5.8284)"
      ]
     },
     "metadata": {},
     "output_type": "display_data"
    }
   ],
   "source": [
    "U = torch.cat([2 * torch.eye(A.shape[1], dtype=A.dtype, device=A.device), A.T], dim=1)\n",
    "L = torch.cat([A, torch.zeros((A.shape[0], A.shape[0]), dtype=A.dtype, device=A.device)], dim=1)\n",
    "projection_inverse = torch.linalg.inv(torch.cat([U, L], dim=0))\n",
    "A = torch.tensor(A, dtype=torch.float32)\n",
    "\n",
    "def forward(x, x_ref):\n",
    "    v = torch.cat([2 * x, x_ref @ A.T], dim=-1)\n",
    "    return v @ projection_inverse.T\n",
    "\n",
    "display(projection_inverse)\n",
    "display(\"cond:\", torch.linalg.cond(projection_inverse))"
   ]
  },
  {
   "cell_type": "code",
   "execution_count": 3,
   "id": "7dfdeeaf",
   "metadata": {},
   "outputs": [
    {
     "name": "stdout",
     "output_type": "stream",
     "text": [
      "tensor([[8.0000e+01, 6.5000e+01, 1.0000e+01, 2.0000e+01, 2.0000e+01, 1.5259e-05,\n",
      "         0.0000e+00, 0.0000e+00]])\n",
      "tensor([[ 83.9416,  78.2847,  10.5839,  10.9489,  10.9489, -20.1349, -29.7470,\n",
      "         -29.7470]])\n"
     ]
    }
   ],
   "source": [
    "x_allowed = torch.tensor([[80, 65, 10, 20, 20]], dtype=torch.float32)  # output allowed by stoichiometriy \n",
    "x_vorbidden = torch.tensor([[80, 65, 0, 0, 0]], dtype=torch.float32)  # output vorbidden by stoichiometriy \n",
    "\n",
    "y_allowed = forward(x_allowed, x_ref=x_ref)\n",
    "y_vorbidden_corrected = forward(x_vorbidden, x_ref=x_ref)\n",
    "\n",
    "print(y_allowed)\n",
    "print(y_vorbidden_corrected)\n"
   ]
  },
  {
   "cell_type": "code",
   "execution_count": 21,
   "id": "74e6ae0b",
   "metadata": {},
   "outputs": [
    {
     "name": "stderr",
     "output_type": "stream",
     "text": [
      "/var/folders/0w/sn_84jz11_5gb5j3t0rj_fl40000gn/T/ipykernel_87147/3634991507.py:1: DeprecationWarning: __array_wrap__ must accept context and return_scalar arguments (positionally) in the future. (Deprecated NumPy 2.0)\n",
      "  (x_ref - x_allowed.numpy()) @ element_species_matrix.T\n"
     ]
    },
    {
     "data": {
      "text/plain": [
       "tensor([[0., 0., 0.]], dtype=torch.float64)"
      ]
     },
     "execution_count": 21,
     "metadata": {},
     "output_type": "execute_result"
    }
   ],
   "source": [
    "(x_ref - x_allowed.numpy()) @ element_species_matrix.T"
   ]
  }
 ],
 "metadata": {
  "kernelspec": {
   "display_name": "apc",
   "language": "python",
   "name": "python3"
  },
  "language_info": {
   "codemirror_mode": {
    "name": "ipython",
    "version": 3
   },
   "file_extension": ".py",
   "mimetype": "text/x-python",
   "name": "python",
   "nbconvert_exporter": "python",
   "pygments_lexer": "ipython3",
   "version": "3.12.3"
  }
 },
 "nbformat": 4,
 "nbformat_minor": 5
}
